{
 "cells": [
  {
   "cell_type": "markdown",
   "id": "fc3024e2",
   "metadata": {},
   "source": [
    "Reflection and Blogpost Writing"
   ]
  },
  {
   "cell_type": "markdown",
   "id": "3b0cc42f",
   "metadata": {},
   "source": [
    "## Setup"
   ]
  },
  {
   "cell_type": "code",
   "execution_count": 1,
   "id": "96d39be0-eaf3-456d-8613-ba21099ed36b",
   "metadata": {
    "height": 30
   },
   "outputs": [],
   "source": [
    "llm_config = {\"model\": \"gpt-3.5-turbo\"}"
   ]
  },
  {
   "cell_type": "markdown",
   "id": "0969e6bb",
   "metadata": {},
   "source": [
    "## The task!"
   ]
  },
  {
   "cell_type": "code",
   "execution_count": 2,
   "id": "e8074032-3690-4de9-ad08-ea8323cb441b",
   "metadata": {
    "height": 115
   },
   "outputs": [],
   "source": [
    "task = '''\n",
    "        Write a concise but engaging blogpost about\n",
    "       DeepLearning.AI. Make sure the blogpost is\n",
    "       within 100 words.\n",
    "       '''\n"
   ]
  },
  {
   "cell_type": "markdown",
   "id": "1987f023",
   "metadata": {},
   "source": [
    "## Create a writer agent"
   ]
  },
  {
   "cell_type": "code",
   "execution_count": 3,
   "id": "fe0f0a47-a9fe-43a0-b7b1-79922e4c4ac8",
   "metadata": {
    "height": 198
   },
   "outputs": [],
   "source": [
    "import autogen\n",
    "\n",
    "writer = autogen.AssistantAgent(\n",
    "    name=\"Writer\",\n",
    "    system_message=\"You are a writer. You write engaging and concise \" \n",
    "        \"blogpost (with title) on given topics. You must polish your \"\n",
    "        \"writing based on the feedback you receive and give a refined \"\n",
    "        \"version. Only return your final work without additional comments.\",\n",
    "    llm_config=llm_config,\n",
    ")"
   ]
  },
  {
   "cell_type": "code",
   "execution_count": 4,
   "id": "7c7b4d8d-40f7-4a05-8958-25d20054de3a",
   "metadata": {
    "height": 45
   },
   "outputs": [],
   "source": [
    "reply = writer.generate_reply(messages=[{\"content\": task, \"role\": \"user\"}])"
   ]
  },
  {
   "cell_type": "code",
   "execution_count": 5,
   "id": "c501c97d-e338-4f36-a384-6ec45983cf77",
   "metadata": {
    "height": 30
   },
   "outputs": [
    {
     "name": "stdout",
     "output_type": "stream",
     "text": [
      "Title: \"Demystifying DeepLearning.AI: Your Gateway to AI Excellence\"\n",
      "\n",
      "Dive into the world of artificial intelligence with DeepLearning.AI! Founded by the renowned Andrew Ng, this platform offers top-tier courses to help you grasp the complexities of deep learning. Whether you're a novice or an expert, the structured curriculum caters to all levels. From computer vision to natural language processing, the program covers it all. Gain practical skills, work on hands-on projects, and join a thriving community of learners worldwide. Embrace the future of technology with DeepLearning.AI as your guiding light. Start your AI journey today!\n"
     ]
    }
   ],
   "source": [
    "print(reply)"
   ]
  },
  {
   "cell_type": "markdown",
   "id": "49658114",
   "metadata": {},
   "source": [
    "## Adding reflection \n",
    "\n",
    "A critic agent to reflect on the work of the writer agent."
   ]
  },
  {
   "cell_type": "code",
   "execution_count": 6,
   "id": "c7fcd1c7-51ec-4915-8e97-bac03565c4c7",
   "metadata": {
    "height": 164
   },
   "outputs": [],
   "source": [
    "critic = autogen.AssistantAgent(\n",
    "    name=\"Critic\",\n",
    "    is_termination_msg=lambda x: x.get(\"content\", \"\").find(\"TERMINATE\") >= 0,\n",
    "    llm_config=llm_config,\n",
    "    system_message=\"You are a critic. You review the work of \"\n",
    "                \"the writer and provide constructive \"\n",
    "                \"feedback to help improve the quality of the content.\",\n",
    ")"
   ]
  },
  {
   "cell_type": "code",
   "execution_count": 7,
   "id": "899d5fdb-6081-470b-b287-8cf8b8142d0d",
   "metadata": {
    "height": 115
   },
   "outputs": [
    {
     "name": "stdout",
     "output_type": "stream",
     "text": [
      "\u001b[33mCritic\u001b[0m (to Writer):\n",
      "\n",
      "\n",
      "        Write a concise but engaging blogpost about\n",
      "       DeepLearning.AI. Make sure the blogpost is\n",
      "       within 100 words.\n",
      "       \n",
      "\n",
      "--------------------------------------------------------------------------------\n",
      "\u001b[33mWriter\u001b[0m (to Critic):\n",
      "\n",
      "Title: \"Demystifying DeepLearning.AI: Your Gateway to AI Excellence\"\n",
      "\n",
      "Dive into the world of artificial intelligence with DeepLearning.AI! Founded by the renowned Andrew Ng, this platform offers top-tier courses to help you grasp the complexities of deep learning. Whether you're a novice or an expert, the structured curriculum caters to all levels. From computer vision to natural language processing, the program covers it all. Gain practical skills, work on hands-on projects, and join a thriving community of learners worldwide. Embrace the future of technology with DeepLearning.AI as your guiding light. Start your AI journey today!\n",
      "\n",
      "--------------------------------------------------------------------------------\n",
      "\u001b[33mCritic\u001b[0m (to Writer):\n",
      "\n",
      "This blogpost on DeepLearning.AI is concise and engaging, providing a captivating introduction to the platform within the given word limit. It effectively highlights the key points about DeepLearning.AI, such as its founder, course offerings, flexibility for learners of all levels, practical hands-on experience, and the sense of community it provides. To enhance the content, you could consider incorporating specific examples of successful projects or testimonials from learners who have benefited from the platform. Additionally, providing more specific details on the curriculum or any unique features of the courses could further attract readers interested in AI education. Overall, the blogpost effectively communicates the value of DeepLearning.AI but could benefit from adding more depth to enrich the reader's understanding.\n",
      "\n",
      "--------------------------------------------------------------------------------\n",
      "\u001b[33mWriter\u001b[0m (to Critic):\n",
      "\n",
      "Title: \"Unleash Your Potential with DeepLearning.AI: A Gateway to AI Mastery\"\n",
      "\n",
      "Step into the dynamic realm of artificial intelligence through DeepLearning.AI, the brainchild of AI luminary Andrew Ng. This educational platform offers a myriad of courses covering diverse AI facets, from computer vision to natural language processing. Tailored for beginners and experts alike, the comprehensive curriculum ensures a seamless learning journey for all. Delve into practical projects, fostering hands-on experience crucial in AI fluency. Engage with a global community of learners, propelling your AI pursuits forward. Embark on your AI odyssey today with DeepLearning.AI guiding the way to a proficient AI future!\n",
      "\n",
      "--------------------------------------------------------------------------------\n"
     ]
    }
   ],
   "source": [
    "res = critic.initiate_chat(\n",
    "    recipient=writer,\n",
    "    message=task,\n",
    "    max_turns=2,\n",
    "    summary_method=\"last_msg\"\n",
    ")"
   ]
  },
  {
   "cell_type": "markdown",
   "id": "e7b76449",
   "metadata": {},
   "source": [
    "## Nested chat"
   ]
  },
  {
   "cell_type": "code",
   "execution_count": 8,
   "id": "401ecf92-63e9-40ff-aeed-1c404352e4ab",
   "metadata": {
    "height": 215
   },
   "outputs": [],
   "source": [
    "SEO_reviewer = autogen.AssistantAgent(\n",
    "    name=\"SEO Reviewer\",\n",
    "    llm_config=llm_config,\n",
    "    system_message=\"You are an SEO reviewer, known for \"\n",
    "        \"your ability to optimize content for search engines, \"\n",
    "        \"ensuring that it ranks well and attracts organic traffic. \" \n",
    "        \"Make sure your suggestion is concise (within 3 bullet points), \"\n",
    "        \"concrete and to the point. \"\n",
    "        \"Begin the review by stating your role.\",\n",
    ")\n"
   ]
  },
  {
   "cell_type": "code",
   "execution_count": 9,
   "id": "f85acb81-7ab9-4c84-b8bb-6fbae3dce848",
   "metadata": {
    "height": 198
   },
   "outputs": [],
   "source": [
    "legal_reviewer = autogen.AssistantAgent(\n",
    "    name=\"Legal Reviewer\",\n",
    "    llm_config=llm_config,\n",
    "    system_message=\"You are a legal reviewer, known for \"\n",
    "        \"your ability to ensure that content is legally compliant \"\n",
    "        \"and free from any potential legal issues. \"\n",
    "        \"Make sure your suggestion is concise (within 3 bullet points), \"\n",
    "        \"concrete and to the point. \"\n",
    "        \"Begin the review by stating your role.\",\n",
    ")"
   ]
  },
  {
   "cell_type": "code",
   "execution_count": 10,
   "id": "d46a177a-8088-4956-8d2b-3e916b8ca5e9",
   "metadata": {
    "height": 198
   },
   "outputs": [],
   "source": [
    "ethics_reviewer = autogen.AssistantAgent(\n",
    "    name=\"Ethics Reviewer\",\n",
    "    llm_config=llm_config,\n",
    "    system_message=\"You are an ethics reviewer, known for \"\n",
    "        \"your ability to ensure that content is ethically sound \"\n",
    "        \"and free from any potential ethical issues. \" \n",
    "        \"Make sure your suggestion is concise (within 3 bullet points), \"\n",
    "        \"concrete and to the point. \"\n",
    "        \"Begin the review by stating your role. \",\n",
    ")"
   ]
  },
  {
   "cell_type": "code",
   "execution_count": 11,
   "id": "a7b2ad6f-8ba6-436a-9459-14ffbe8a32d3",
   "metadata": {
    "height": 130
   },
   "outputs": [],
   "source": [
    "meta_reviewer = autogen.AssistantAgent(\n",
    "    name=\"Meta Reviewer\",\n",
    "    llm_config=llm_config,\n",
    "    system_message=\"You are a meta reviewer, you aggragate and review \"\n",
    "    \"the work of other reviewers and give a final suggestion on the content.\",\n",
    ")"
   ]
  },
  {
   "cell_type": "markdown",
   "id": "913beca1",
   "metadata": {},
   "source": [
    "## Orchestrate the nested chats to solve the task"
   ]
  },
  {
   "cell_type": "code",
   "execution_count": 12,
   "id": "a11a70c7-19ca-4e5a-ad3d-f2b481fb5915",
   "metadata": {
    "height": 555
   },
   "outputs": [],
   "source": [
    "def reflection_message(recipient, messages, sender, config):\n",
    "    return f'''Review the following content. \n",
    "            \\n\\n {recipient.chat_messages_for_summary(sender)[-1]['content']}'''\n",
    "\n",
    "review_chats = [\n",
    "    {\n",
    "     \"recipient\": SEO_reviewer, \n",
    "     \"message\": reflection_message, \n",
    "     \"summary_method\": \"reflection_with_llm\",\n",
    "     \"summary_args\": {\"summary_prompt\" : \n",
    "        \"Return review into as JSON object only:\"\n",
    "        \"{'Reviewer': '', 'Review': ''}. Here Reviewer should be your role\",},\n",
    "     \"max_turns\": 1},\n",
    "    {\n",
    "    \"recipient\": legal_reviewer, \"message\": reflection_message, \n",
    "     \"summary_method\": \"reflection_with_llm\",\n",
    "     \"summary_args\": {\"summary_prompt\" : \n",
    "        \"Return review into as JSON object only:\"\n",
    "        \"{'Reviewer': '', 'Review': ''}.\",},\n",
    "     \"max_turns\": 1},\n",
    "    {\"recipient\": ethics_reviewer, \"message\": reflection_message, \n",
    "     \"summary_method\": \"reflection_with_llm\",\n",
    "     \"summary_args\": {\"summary_prompt\" : \n",
    "        \"Return review into as JSON object only:\"\n",
    "        \"{'reviewer': '', 'review': ''}\",},\n",
    "     \"max_turns\": 1},\n",
    "     {\"recipient\": meta_reviewer, \n",
    "      \"message\": \"Aggregrate feedback from all reviewers and give final suggestions on the writing.\", \n",
    "     \"max_turns\": 1},\n",
    "]\n"
   ]
  },
  {
   "cell_type": "code",
   "execution_count": 13,
   "id": "b3a40b66-5061-460d-ad9d-c0dbcfbba2e9",
   "metadata": {
    "height": 81
   },
   "outputs": [],
   "source": [
    "critic.register_nested_chats(\n",
    "    review_chats,\n",
    "    trigger=writer,\n",
    ")"
   ]
  },
  {
   "cell_type": "code",
   "execution_count": 14,
   "id": "3b8dcac3-1e72-43b7-9d5a-1be740f6efd5",
   "metadata": {
    "height": 115
   },
   "outputs": [
    {
     "name": "stdout",
     "output_type": "stream",
     "text": [
      "\u001b[33mCritic\u001b[0m (to Writer):\n",
      "\n",
      "\n",
      "        Write a concise but engaging blogpost about\n",
      "       DeepLearning.AI. Make sure the blogpost is\n",
      "       within 100 words.\n",
      "       \n",
      "\n",
      "--------------------------------------------------------------------------------\n",
      "\u001b[33mWriter\u001b[0m (to Critic):\n",
      "\n",
      "Title: \"Demystifying DeepLearning.AI: Your Gateway to AI Excellence\"\n",
      "\n",
      "Dive into the world of artificial intelligence with DeepLearning.AI! Founded by the renowned Andrew Ng, this platform offers top-tier courses to help you grasp the complexities of deep learning. Whether you're a novice or an expert, the structured curriculum caters to all levels. From computer vision to natural language processing, the program covers it all. Gain practical skills, work on hands-on projects, and join a thriving community of learners worldwide. Embrace the future of technology with DeepLearning.AI as your guiding light. Start your AI journey today!\n",
      "\n",
      "--------------------------------------------------------------------------------\n",
      "\u001b[34m\n",
      "********************************************************************************\u001b[0m\n",
      "\u001b[34mStarting a new chat....\u001b[0m\n",
      "\u001b[34m\n",
      "********************************************************************************\u001b[0m\n",
      "\u001b[33mCritic\u001b[0m (to SEO Reviewer):\n",
      "\n",
      "Review the following content. \n",
      "            \n",
      "\n",
      " Title: \"Demystifying DeepLearning.AI: Your Gateway to AI Excellence\"\n",
      "\n",
      "Dive into the world of artificial intelligence with DeepLearning.AI! Founded by the renowned Andrew Ng, this platform offers top-tier courses to help you grasp the complexities of deep learning. Whether you're a novice or an expert, the structured curriculum caters to all levels. From computer vision to natural language processing, the program covers it all. Gain practical skills, work on hands-on projects, and join a thriving community of learners worldwide. Embrace the future of technology with DeepLearning.AI as your guiding light. Start your AI journey today!\n",
      "\n",
      "--------------------------------------------------------------------------------\n",
      "\u001b[33mSEO Reviewer\u001b[0m (to Critic):\n",
      "\n",
      "As an SEO reviewer, here are my suggestions for optimizing the content:\n",
      "\n",
      "1. **Title Optimization:**\n",
      "   - Consider including popular keywords related to AI education and Andrew Ng to improve search visibility. For example, \"Master AI Skills with DeepLearning.AI by Andrew Ng: Courses, Projects & Community.\"\n",
      "\n",
      "2. **Keyword Integration:**\n",
      "   - Incorporate relevant keywords throughout the content naturally to enhance its search engine ranking. Keywords like \"artificial intelligence courses,\" \"deep learning programs,\" and \"online AI education\" could be included.\n",
      "\n",
      "3. **Call-to-Action (CTA) Enhancement:**\n",
      "   - Strengthen the CTA at the end of the content by providing a clear instruction that encourages readers to take action. For instance, \"Enroll in DeepLearning.AI's courses now to kickstart your AI journey!\"\n",
      "\n",
      "--------------------------------------------------------------------------------\n",
      "\u001b[34m\n",
      "********************************************************************************\u001b[0m\n",
      "\u001b[34mStarting a new chat....\u001b[0m\n",
      "\u001b[34m\n",
      "********************************************************************************\u001b[0m\n",
      "\u001b[33mCritic\u001b[0m (to Legal Reviewer):\n",
      "\n",
      "Review the following content. \n",
      "            \n",
      "\n",
      " Title: \"Demystifying DeepLearning.AI: Your Gateway to AI Excellence\"\n",
      "\n",
      "Dive into the world of artificial intelligence with DeepLearning.AI! Founded by the renowned Andrew Ng, this platform offers top-tier courses to help you grasp the complexities of deep learning. Whether you're a novice or an expert, the structured curriculum caters to all levels. From computer vision to natural language processing, the program covers it all. Gain practical skills, work on hands-on projects, and join a thriving community of learners worldwide. Embrace the future of technology with DeepLearning.AI as your guiding light. Start your AI journey today!\n",
      "Context: \n",
      "{'Reviewer': 'SEO Reviewer', 'Review': 'Title, keyword integration, and call-to-action suggestions provided for optimizing the content.'}\n",
      "\n",
      "--------------------------------------------------------------------------------\n",
      "\u001b[33mLegal Reviewer\u001b[0m (to Critic):\n",
      "\n",
      "As a Legal Reviewer, I advise the following for the provided content:\n",
      "\n",
      "- Ensure that the use of the term \"AI Excellence\" in the title is not misleading or inaccurate regarding the outcomes achievable through the courses.\n",
      "- Review the claims made about the program, such as \"top-tier courses\" and \"grasping the complexities of deep learning,\" to ensure they are substantiated and not exaggerated.\n",
      "- Check any usage of terms like \"renowned\" or \"thriving community\" to avoid potential issues related to false advertising or misleading representations.\n",
      "\n",
      "--------------------------------------------------------------------------------\n",
      "\u001b[34m\n",
      "********************************************************************************\u001b[0m\n",
      "\u001b[34mStarting a new chat....\u001b[0m\n",
      "\u001b[34m\n",
      "********************************************************************************\u001b[0m\n",
      "\u001b[33mCritic\u001b[0m (to Ethics Reviewer):\n",
      "\n",
      "Review the following content. \n",
      "            \n",
      "\n",
      " Title: \"Demystifying DeepLearning.AI: Your Gateway to AI Excellence\"\n",
      "\n",
      "Dive into the world of artificial intelligence with DeepLearning.AI! Founded by the renowned Andrew Ng, this platform offers top-tier courses to help you grasp the complexities of deep learning. Whether you're a novice or an expert, the structured curriculum caters to all levels. From computer vision to natural language processing, the program covers it all. Gain practical skills, work on hands-on projects, and join a thriving community of learners worldwide. Embrace the future of technology with DeepLearning.AI as your guiding light. Start your AI journey today!\n",
      "Context: \n",
      "{'Reviewer': 'SEO Reviewer', 'Review': 'Title, keyword integration, and call-to-action suggestions provided for optimizing the content.'}\n",
      "{'Reviewer': 'Legal Reviewer', 'Review': 'Ensure that the use of the term \"AI Excellence\" in the title is not misleading or inaccurate regarding the outcomes achievable through the courses. Review the claims made about the program, such as \"top-tier courses\" and \"grasping the complexities of deep learning,\" to ensure they are substantiated and not exaggerated. Check any usage of terms like \"renowned\" or \"thriving community\" to avoid potential issues related to false advertising or misleading representations.'}\n",
      "\n",
      "--------------------------------------------------------------------------------\n",
      "\u001b[33mEthics Reviewer\u001b[0m (to Critic):\n",
      "\n",
      "As an Ethics Reviewer:\n",
      "\n",
      "1. Ensure that any claims made about the course, such as \"top-tier courses,\" \"grasping the complexities of deep learning,\" and \"AI excellence,\" are accurately supported by evidence to avoid potential misleading representations.\n",
      "   \n",
      "2. Avoid using subjective terms like \"renowned\" without specific context or evidence to substantiate the reputation of individuals or organizations mentioned in the content.\n",
      "\n",
      "3. Be cautious with phrases like \"thriving community\" to ensure they accurately reflect the nature and scale of the community associated with DeepLearning.AI to avoid potential misinterpretation or false advertising.\n",
      "\n",
      "--------------------------------------------------------------------------------\n",
      "\u001b[34m\n",
      "********************************************************************************\u001b[0m\n",
      "\u001b[34mStarting a new chat....\u001b[0m\n",
      "\u001b[34m\n",
      "********************************************************************************\u001b[0m\n",
      "\u001b[33mCritic\u001b[0m (to Meta Reviewer):\n",
      "\n",
      "Aggregrate feedback from all reviewers and give final suggestions on the writing.\n",
      "Context: \n",
      "{'Reviewer': 'SEO Reviewer', 'Review': 'Title, keyword integration, and call-to-action suggestions provided for optimizing the content.'}\n",
      "{'Reviewer': 'Legal Reviewer', 'Review': 'Ensure that the use of the term \"AI Excellence\" in the title is not misleading or inaccurate regarding the outcomes achievable through the courses. Review the claims made about the program, such as \"top-tier courses\" and \"grasping the complexities of deep learning,\" to ensure they are substantiated and not exaggerated. Check any usage of terms like \"renowned\" or \"thriving community\" to avoid potential issues related to false advertising or misleading representations.'}\n",
      "{'reviewer': 'Ethics Reviewer', 'review': '1. Ensure that any claims made about the course, such as \"top-tier courses,\" \"grasping the complexities of deep learning,\" and \"AI excellence,\" are accurately supported by evidence to avoid potential misleading representations. 2. Avoid using subjective terms like \"renowned\" without specific context or evidence to substantiate the reputation of individuals or organizations mentioned in the content. 3. Be cautious with phrases like \"thriving community\" to ensure they accurately reflect the nature and scale of the community associated with DeepLearning.AI to avoid potential misinterpretation or false advertising.'}\n"
     ]
    },
    {
     "name": "stdout",
     "output_type": "stream",
     "text": [
      "\n",
      "--------------------------------------------------------------------------------\n",
      "\u001b[33mMeta Reviewer\u001b[0m (to Critic):\n",
      "\n",
      "Aggregating the feedback from the reviewers, it is clear that there are some key areas to address in the content:\n",
      "\n",
      "1. **Title, Keyword Integration, and Call-to-Action:** The SEO Reviewer has suggested optimizing the content in these areas, which is important for visibility and engagement.\n",
      "\n",
      "2. **Claim Verification:** Both the Legal and Ethics Reviewers have highlighted the need to ensure that the claims made in the content, such as \"top-tier courses,\" \"AI excellence,\" and terms like \"renowned\" and \"thriving community,\" are substantiated with evidence. This is crucial to avoid misleading representations and potential legal issues related to false advertising.\n",
      "\n",
      "Final Suggestions:\n",
      "- **Evidence-based Claims:** It is essential to provide evidence or context to support any claims made about the courses or community to maintain credibility and transparency.\n",
      "- **Avoid Subjective Language:** Steer clear of using subjective terms that could lead to misinterpretation or false advertising. Instead, focus on concrete and verifiable information.\n",
      "- **Legal Compliance:** Ensure that all statements are accurate and do not create unrealistic expectations for the audience, especially in terms of outcomes achievable through the courses.\n",
      "\n",
      "By addressing these suggestions, the content can not only improve its overall quality but also maintain ethical and legal standards in its messaging.\n",
      "\n",
      "--------------------------------------------------------------------------------\n",
      "\u001b[33mCritic\u001b[0m (to Writer):\n",
      "\n",
      "Aggregating the feedback from the reviewers, it is clear that there are some key areas to address in the content:\n",
      "\n",
      "1. **Title, Keyword Integration, and Call-to-Action:** The SEO Reviewer has suggested optimizing the content in these areas, which is important for visibility and engagement.\n",
      "\n",
      "2. **Claim Verification:** Both the Legal and Ethics Reviewers have highlighted the need to ensure that the claims made in the content, such as \"top-tier courses,\" \"AI excellence,\" and terms like \"renowned\" and \"thriving community,\" are substantiated with evidence. This is crucial to avoid misleading representations and potential legal issues related to false advertising.\n",
      "\n",
      "Final Suggestions:\n",
      "- **Evidence-based Claims:** It is essential to provide evidence or context to support any claims made about the courses or community to maintain credibility and transparency.\n",
      "- **Avoid Subjective Language:** Steer clear of using subjective terms that could lead to misinterpretation or false advertising. Instead, focus on concrete and verifiable information.\n",
      "- **Legal Compliance:** Ensure that all statements are accurate and do not create unrealistic expectations for the audience, especially in terms of outcomes achievable through the courses.\n",
      "\n",
      "By addressing these suggestions, the content can not only improve its overall quality but also maintain ethical and legal standards in its messaging.\n",
      "\n",
      "--------------------------------------------------------------------------------\n",
      "\u001b[33mWriter\u001b[0m (to Critic):\n",
      "\n",
      "Title: \"Unveiling DeepLearning.AI: Accelerate Your AI Journey\"\n",
      "\n",
      "Embark on your AI learning path with DeepLearning.AI, the brainchild of the esteemed Andrew Ng. This platform offers a comprehensive range of courses tailored for all skill levels, covering diverse fields like computer vision and natural language processing. Engage with practical projects, refine your skills, and collaborate with a global community of learners. It's vital to substantiate claims of \"top-tier courses\" and a \"thriving community\" with verifiable evidence. By providing transparent, evidence-based information and maintaining legal and ethical standards, DeepLearning.AI stands as a beacon for AI enthusiasts worldwide. Start your AI journey today!\n",
      "\n",
      "--------------------------------------------------------------------------------\n"
     ]
    }
   ],
   "source": [
    "res = critic.initiate_chat(\n",
    "    recipient=writer,\n",
    "    message=task,\n",
    "    max_turns=2,\n",
    "    summary_method=\"last_msg\"\n",
    ")"
   ]
  },
  {
   "cell_type": "markdown",
   "id": "c5c833b0",
   "metadata": {},
   "source": [
    "## Get the summary"
   ]
  },
  {
   "cell_type": "code",
   "execution_count": 15,
   "id": "68ef82ed-f102-4964-b7be-60e2f258a39b",
   "metadata": {
    "height": 30
   },
   "outputs": [
    {
     "name": "stdout",
     "output_type": "stream",
     "text": [
      "Title: \"Unveiling DeepLearning.AI: Accelerate Your AI Journey\"\n",
      "\n",
      "Embark on your AI learning path with DeepLearning.AI, the brainchild of the esteemed Andrew Ng. This platform offers a comprehensive range of courses tailored for all skill levels, covering diverse fields like computer vision and natural language processing. Engage with practical projects, refine your skills, and collaborate with a global community of learners. It's vital to substantiate claims of \"top-tier courses\" and a \"thriving community\" with verifiable evidence. By providing transparent, evidence-based information and maintaining legal and ethical standards, DeepLearning.AI stands as a beacon for AI enthusiasts worldwide. Start your AI journey today!\n"
     ]
    }
   ],
   "source": [
    "print(res.summary)"
   ]
  }
 ],
 "metadata": {
  "kernelspec": {
   "display_name": "Python 3 (ipykernel)",
   "language": "python",
   "name": "python3"
  },
  "language_info": {
   "codemirror_mode": {
    "name": "ipython",
    "version": 3
   },
   "file_extension": ".py",
   "mimetype": "text/x-python",
   "name": "python",
   "nbconvert_exporter": "python",
   "pygments_lexer": "ipython3",
   "version": "3.11.9"
  }
 },
 "nbformat": 4,
 "nbformat_minor": 5
}
